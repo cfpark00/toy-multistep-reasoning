{
 "cells": [
  {
   "cell_type": "code",
   "execution_count": 1,
   "metadata": {},
   "outputs": [],
   "source": [
    "import yaml\n",
    "import copy\n",
    "import os\n",
    "import numpy as np"
   ]
  },
  {
   "cell_type": "code",
   "execution_count": 2,
   "metadata": {},
   "outputs": [],
   "source": [
    "config_base_path=\"./configs\""
   ]
  },
  {
   "cell_type": "code",
   "execution_count": 3,
   "metadata": {},
   "outputs": [],
   "source": [
    "base_config = {\n",
    "    \"batch_size\": 128,\n",
    "    \"dataset_path\": \"cfpark00/toy-multistep-nn_5-na_5-nab_5-seed_0\",\n",
    "    \"dataset_split\": \"train\",\n",
    "    \"instruct_mode\": False,\n",
    "    \"model_name\": \"cfpark00/toy-multistep-nn_5-na_5\",\n",
    "    \"model_parallel\": False,\n",
    "    \"save_path\": \"./data/sft/toy-multistep-nn_5-na_5-nab_5-seed_0\",\n",
    "    \"train_max_length\": 64,\n",
    "    \"training_arguments\": {\n",
    "        \"bf16\": False,\n",
    "        \"gradient_accumulation_steps\": 1,\n",
    "        \"learning_rate\": 0.001,\n",
    "        \"logging_steps\": 12,\n",
    "        \"lr_scheduler_type\": \"linear\",\n",
    "        \"warmup_ratio\": 0.05,\n",
    "        \"num_train_epochs\": 1,\n",
    "        \"save_only_model\": True,\n",
    "        \"save_steps\": 0.2,\n",
    "        \"save_strategy\": \"no\"\n",
    "    },\n",
    "    'wandb': {\n",
    "        'project_name': 'toy-multistep-reasoning',\n",
    "        'run_name': 'toy-multistep-reasoning-example-nn_5-na_5-nab_5-seed_0'\n",
    "    }\n",
    "}"
   ]
  },
  {
   "cell_type": "code",
   "execution_count": 23,
   "metadata": {},
   "outputs": [],
   "source": [
    "config_paths=[]\n",
    "for n_nodes in [5,10,20]:\n",
    "    for n_actions in [5,10,20]:\n",
    "        for n_ablate in [\"0.1\",\"0.2\",\"0.3\"]:\n",
    "            for seed in [0,1,2]:\n",
    "                n_edges=n_nodes*n_actions\n",
    "                if type(n_ablate) == str:\n",
    "                    n_ablate = int(float(n_ablate)*n_edges)\n",
    "                config= copy.deepcopy(base_config)\n",
    "                config[\"dataset_path\"] = f\"cfpark00/toy-multistep-nn_{n_nodes}-na_{n_actions}-nab_{n_ablate}-seed_{seed}\"\n",
    "                config[\"model_name\"] = f\"cfpark00/toy-multistep-nn_{n_nodes}-na_{n_actions}\"\n",
    "                config[\"save_path\"] = f\"./data/sft/toy-multistep-nn_{n_nodes}-na_{n_actions}-nab_{n_ablate}-seed_{seed}\"\n",
    "                config[\"wandb\"][\"run_name\"] = f\"toy-multistep-reasoning-example-nn_{n_nodes}-na_{n_actions}-nab_{n_ablate}-seed_{seed}\"\n",
    "\n",
    "                config_path= os.path.join(config_base_path, f\"nn_{n_nodes}-na_{n_actions}-nab_{n_ablate}\",f\"seed_{seed}.yaml\")\n",
    "                os.makedirs(os.path.dirname(config_path), exist_ok=True)\n",
    "                with open(config_path, 'w') as f:\n",
    "                    yaml.dump(config, f)\n",
    "                config_paths.append(config_path)"
   ]
  },
  {
   "cell_type": "code",
   "execution_count": 24,
   "metadata": {},
   "outputs": [],
   "source": [
    "script_path = \"./scripts/train.sh\"\n",
    "with open(script_path, 'w') as f:\n",
    "    f.write(\"#!/bin/bash\\n\")\n",
    "    for config_path in config_paths:\n",
    "        f.write(f\"echo {config_path}\\n\")\n",
    "        f.write(f\"accelerate launch /n/home12/cfpark00/ML/tools/run_sft_accelerate.py {config_path} --overwrite\\n\")\n",
    "        f.write(\"echo \\\"\\\"\\n\")"
   ]
  },
  {
   "cell_type": "code",
   "execution_count": null,
   "metadata": {},
   "outputs": [],
   "source": []
  },
  {
   "cell_type": "code",
   "execution_count": 4,
   "metadata": {},
   "outputs": [],
   "source": [
    "eval_script_path = \"./scripts/eval.sh\"\n",
    "with open(eval_script_path, 'w') as f:\n",
    "    f.write(\"#!/bin/bash\\n\")\n",
    "    for n_nodes in [5,10,20]:\n",
    "        for n_actions in [5,10,20]:\n",
    "            for n_ablate in [\"0.1\",\"0.2\",\"0.3\"]:\n",
    "                for seed in [0,1,2]:\n",
    "                    n_edges=n_nodes*n_actions\n",
    "                    if type(n_ablate) == str:\n",
    "                        n_ablate = int(float(n_ablate)*n_edges)\n",
    "                    f.write(f\"echo nn_{n_nodes}-na_{n_actions}-nab_{n_ablate}-seed_{seed}\\n\")\n",
    "                    f.write(f\"python3 eval.py --n_n {n_nodes} --n_a {n_actions} --n_ab {n_ablate} --seed {seed} --n_problems 4096 \\n\")"
   ]
  },
  {
   "cell_type": "code",
   "execution_count": null,
   "metadata": {},
   "outputs": [],
   "source": []
  }
 ],
 "metadata": {
  "kernelspec": {
   "display_name": "verl",
   "language": "python",
   "name": "python3"
  },
  "language_info": {
   "codemirror_mode": {
    "name": "ipython",
    "version": 3
   },
   "file_extension": ".py",
   "mimetype": "text/x-python",
   "name": "python",
   "nbconvert_exporter": "python",
   "pygments_lexer": "ipython3",
   "version": "3.9.0"
  }
 },
 "nbformat": 4,
 "nbformat_minor": 2
}
